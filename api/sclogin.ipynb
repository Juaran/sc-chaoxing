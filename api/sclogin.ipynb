{
 "cells": [
  {
   "cell_type": "code",
   "execution_count": 63,
   "id": "0ab00bcf-8227-49f0-9c42-b5c8aea2b19d",
   "metadata": {},
   "outputs": [
    {
     "name": "stdout",
     "output_type": "stream",
     "text": [
      "lyJ8wBUdII7%2BXcaWlNTqtvYz%2Fenk%2F6SgasDePWMU4oHU%2FST2pb2aIXtwQPDxDqwe5stSLTXG0WDBOF1mBvZsuQmF%2Befuzg9EvfacSemtjNsTBTHvX2GqGVBSh0uazGv0cy%2Ff9d%2BmxXI6pNLvC5OPo%2Bx4fTmdLQPw6uG%2FGJ3gas4%3D\n"
     ]
    }
   ],
   "source": [
    "import requests\n",
    "import execjs\n",
    "import json\n",
    "import re\n",
    "\n",
    "loginame = '15892632370'\n",
    "password = 'Cfycfy927'\n",
    "\n",
    "session = requests.session()\n",
    "session.headers = {\n",
    "    \"User-Agent\": \"Mozilla/5.0 (Windows NT 10.0; Win64; x64) AppleWebKit/537.36 (KHTML, like Gecko) Chrome/103.0.0.0 Safari/537.36\",\n",
    "}\n",
    "\n",
    "# 獲取client-token\n",
    "token_url = \"https://www.scedu.com.cn/ThirdPortalService/user/otherlogin\\u0021login.ac\"\n",
    "params = {\n",
    "    \"pkey\": \"1FDBAB6F0FA07385F8D5EB7A0722445B102F35870A664D6B98A4D3825E200D703AAD991EFF8FEC4EBD79CD86DA4A84D7\",\n",
    "    \"appkey\": \"8FEC272878AAD9E3B4BA9DE37FD5999643A55C2616EC767C37A22B70EDD0259A3AAD991EFF8FEC4EBD79CD86DA4A84D7\",\n",
    "    \"params\": \"66B7977CC93DED97BB765CAF9F94A29032C9EE10590E3B74B018F4B8604C6165CFC5B118AB6E0F843CC373F18E3B2F8AA9BF0B54BA75361B434677E71785335E1EB23C632DD669F555C5DB0B7B778583\"\n",
    "}\n",
    "response = session.get(token_url, params=params)\n",
    "clientTocken = response.headers['Set-Cookie'].split(';')[0].lstrip('Client-Tocken=')\n",
    "random_form = re.findall('(?<=random_form\".value=).*?(?=>)', response.text)[0] # <input type=\"hidden\" id=\"random_form\" name=\"random_form\" value=\"-19706011850912627\">\n",
    "\n",
    "# 登錄\n",
    "loginData = {\n",
    "    'loginName': loginame,\n",
    "    'password': password,\n",
    "    'random_form': random_form\n",
    "}\n",
    "\n",
    "# js 調用\n",
    "with open('encrypt.js', 'r', encoding='UTF-8') as f:\n",
    "    js_code = f.read()\n",
    "context = execjs.compile(js_code)\n",
    "result = context.call(\"EncData\", loginData, clientTocken) # 参数一为函数名，参数二和三为函数的参数\n",
    "ciphertext = result['ciphertext']\n",
    "# print(ciphertext)\n",
    "# EncData(loginData, clientTocken)\n",
    " \n",
    "login_url = \"https://www.scedu.com.cn/ThirdPortalService/login\\u0021login.ac\"\n",
    "data = {\n",
    "    \"ciphertext\": ciphertext\n",
    "}\n",
    "\n",
    "response = session.post(login_url, data=data)\n",
    "# print(response.json())\n",
    "print(response.cookies.get('User_Tocken'))"
   ]
  },
  {
   "cell_type": "code",
   "execution_count": 70,
   "id": "41645cac-bf82-482d-aec6-336c45c6d515",
   "metadata": {},
   "outputs": [
    {
     "name": "stdout",
     "output_type": "stream",
     "text": [
      "登录成功 陈凤英 http://scnlts.chaoxing.com/sso?Pxid=720713&Webid=1001&tid=195391&time=1658985520&Encrypt=0c629ded01b7d2b0531eb271bd5fbef0\n"
     ]
    }
   ],
   "source": [
    "# 1. 获取ticket\n",
    "ticket_url = 'https://www.scedu.com.cn/ThirdPortalService/login!getTicket.ac'\n",
    "ticket = session.get(ticket_url).text\n",
    "# 2. 带ticket请求信息\n",
    "teacher_info_url = 'https://scts.scedu.com.cn/Account/GetTeachInfo.do?ticket=' + ticket\n",
    "res = session.get(teacher_info_url)\n",
    "# 3. 请求主页\n",
    "index_url = 'https://scts.scedu.com.cn//tmanager/index.do?sign=1'\n",
    "resp = session.get(index_url)\n",
    "nickName = re.findall('(?<=header-nickname\">)(\\w+)(?=<)', resp.text)[0]\n",
    "hurl = re.findall('(?<=hurl=\")(.*?)(?=\")', resp.text)[0].replace('&amp;', '&')\n",
    "print(\"登录成功\", nickName, hurl)"
   ]
  },
  {
   "cell_type": "code",
   "execution_count": 84,
   "id": "5127a4d7-5a5c-461a-b147-f3276a81c56e",
   "metadata": {},
   "outputs": [
    {
     "data": {
      "text/plain": [
       "'236143671'"
      ]
     },
     "execution_count": 84,
     "metadata": {},
     "output_type": "execute_result"
    }
   ],
   "source": [
    "# chaoxing_url = re.findall(\"(?<=location.href=')(.*?)(?=')\", session.get(hurl).text)[0]\n",
    "# chaoxing_url\n",
    "session.get(hurl, allow_redirects=False).cookies.get('_uid')"
   ]
  },
  {
   "cell_type": "code",
   "execution_count": 86,
   "id": "cc358768-8dbf-4aae-92cf-9f3cf198d051",
   "metadata": {},
   "outputs": [
    {
     "data": {
      "text/plain": [
       "'236143671'"
      ]
     },
     "execution_count": 86,
     "metadata": {},
     "output_type": "execute_result"
    }
   ],
   "source": [
    "session.cookies['_uid']"
   ]
  },
  {
   "cell_type": "code",
   "execution_count": null,
   "id": "8d348882-bdeb-4b75-afca-e5c917893374",
   "metadata": {},
   "outputs": [],
   "source": []
  }
 ],
 "metadata": {
  "kernelspec": {
   "display_name": "Python 3 (ipykernel)",
   "language": "python",
   "name": "python3"
  },
  "language_info": {
   "codemirror_mode": {
    "name": "ipython",
    "version": 3
   },
   "file_extension": ".py",
   "mimetype": "text/x-python",
   "name": "python",
   "nbconvert_exporter": "python",
   "pygments_lexer": "ipython3",
   "version": "3.8.5"
  }
 },
 "nbformat": 4,
 "nbformat_minor": 5
}
